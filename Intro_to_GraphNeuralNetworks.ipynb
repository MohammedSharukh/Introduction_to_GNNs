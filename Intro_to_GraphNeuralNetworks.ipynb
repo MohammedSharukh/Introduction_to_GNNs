{
 "cells": [
  {
   "cell_type": "code",
   "execution_count": 1,
   "id": "55c016a6",
   "metadata": {},
   "outputs": [
    {
     "name": "stdout",
     "output_type": "stream",
     "text": [
      "Collecting spektral\n",
      "  Downloading spektral-1.2.0-py3-none-any.whl (140 kB)\n",
      "     -------------------------------------- 140.1/140.1 kB 2.1 MB/s eta 0:00:00\n",
      "Requirement already satisfied: requests in c:\\users\\mohds\\anaconda3\\lib\\site-packages (from spektral) (2.28.1)\n",
      "Requirement already satisfied: scikit-learn in c:\\users\\mohds\\anaconda3\\lib\\site-packages (from spektral) (1.0.2)\n",
      "Requirement already satisfied: tqdm in c:\\users\\mohds\\anaconda3\\lib\\site-packages (from spektral) (4.64.1)\n",
      "Requirement already satisfied: networkx in c:\\users\\mohds\\anaconda3\\lib\\site-packages (from spektral) (2.8.4)\n",
      "Requirement already satisfied: pandas in c:\\users\\mohds\\anaconda3\\lib\\site-packages (from spektral) (1.4.4)\n",
      "Requirement already satisfied: tensorflow>=2.2.0 in c:\\users\\mohds\\anaconda3\\lib\\site-packages (from spektral) (2.10.0)\n",
      "Requirement already satisfied: joblib in c:\\users\\mohds\\anaconda3\\lib\\site-packages (from spektral) (1.1.0)\n",
      "Requirement already satisfied: lxml in c:\\users\\mohds\\anaconda3\\lib\\site-packages (from spektral) (4.9.1)\n",
      "Requirement already satisfied: numpy in c:\\users\\mohds\\anaconda3\\lib\\site-packages (from spektral) (1.21.5)\n",
      "Requirement already satisfied: scipy in c:\\users\\mohds\\anaconda3\\lib\\site-packages (from spektral) (1.9.1)\n",
      "Collecting tensorflow-io-gcs-filesystem>=0.23.1\n",
      "  Downloading tensorflow_io_gcs_filesystem-0.30.0-cp39-cp39-win_amd64.whl (1.5 MB)\n",
      "     ---------------------------------------- 1.5/1.5 MB 6.8 MB/s eta 0:00:00\n",
      "Requirement already satisfied: keras<2.11,>=2.10.0 in c:\\users\\mohds\\anaconda3\\lib\\site-packages (from tensorflow>=2.2.0->spektral) (2.10.0)\n",
      "Requirement already satisfied: google-pasta>=0.1.1 in c:\\users\\mohds\\anaconda3\\lib\\site-packages (from tensorflow>=2.2.0->spektral) (0.2.0)\n",
      "Requirement already satisfied: wrapt>=1.11.0 in c:\\users\\mohds\\anaconda3\\lib\\site-packages (from tensorflow>=2.2.0->spektral) (1.14.1)\n",
      "Requirement already satisfied: absl-py>=1.0.0 in c:\\users\\mohds\\anaconda3\\lib\\site-packages (from tensorflow>=2.2.0->spektral) (1.3.0)\n",
      "Requirement already satisfied: setuptools in c:\\users\\mohds\\anaconda3\\lib\\site-packages (from tensorflow>=2.2.0->spektral) (63.4.1)\n",
      "Collecting protobuf<3.20,>=3.9.2\n",
      "  Downloading protobuf-3.19.6-cp39-cp39-win_amd64.whl (895 kB)\n",
      "     -------------------------------------- 895.9/895.9 kB 7.1 MB/s eta 0:00:00\n",
      "Requirement already satisfied: h5py>=2.9.0 in c:\\users\\mohds\\anaconda3\\lib\\site-packages (from tensorflow>=2.2.0->spektral) (3.7.0)\n",
      "Requirement already satisfied: tensorflow-estimator<2.11,>=2.10.0 in c:\\users\\mohds\\anaconda3\\lib\\site-packages (from tensorflow>=2.2.0->spektral) (2.10.0)\n",
      "Requirement already satisfied: keras-preprocessing>=1.1.1 in c:\\users\\mohds\\anaconda3\\lib\\site-packages (from tensorflow>=2.2.0->spektral) (1.1.2)\n",
      "Requirement already satisfied: astunparse>=1.6.0 in c:\\users\\mohds\\anaconda3\\lib\\site-packages (from tensorflow>=2.2.0->spektral) (1.6.3)\n",
      "Requirement already satisfied: gast<=0.4.0,>=0.2.1 in c:\\users\\mohds\\anaconda3\\lib\\site-packages (from tensorflow>=2.2.0->spektral) (0.4.0)\n",
      "Requirement already satisfied: termcolor>=1.1.0 in c:\\users\\mohds\\anaconda3\\lib\\site-packages (from tensorflow>=2.2.0->spektral) (2.2.0)\n",
      "Requirement already satisfied: tensorboard<2.11,>=2.10 in c:\\users\\mohds\\anaconda3\\lib\\site-packages (from tensorflow>=2.2.0->spektral) (2.10.0)\n",
      "Requirement already satisfied: grpcio<2.0,>=1.24.3 in c:\\users\\mohds\\anaconda3\\lib\\site-packages (from tensorflow>=2.2.0->spektral) (1.42.0)\n",
      "Requirement already satisfied: flatbuffers>=2.0 in c:\\users\\mohds\\anaconda3\\lib\\site-packages (from tensorflow>=2.2.0->spektral) (23.1.4)\n",
      "Requirement already satisfied: opt-einsum>=2.3.2 in c:\\users\\mohds\\anaconda3\\lib\\site-packages (from tensorflow>=2.2.0->spektral) (3.3.0)\n",
      "Requirement already satisfied: six>=1.12.0 in c:\\users\\mohds\\anaconda3\\lib\\site-packages (from tensorflow>=2.2.0->spektral) (1.16.0)\n",
      "Collecting libclang>=13.0.0\n",
      "  Downloading libclang-15.0.6.1-py2.py3-none-win_amd64.whl (23.2 MB)\n",
      "     ---------------------------------------- 23.2/23.2 MB 2.1 MB/s eta 0:00:00\n",
      "Requirement already satisfied: typing-extensions>=3.6.6 in c:\\users\\mohds\\anaconda3\\lib\\site-packages (from tensorflow>=2.2.0->spektral) (4.3.0)\n",
      "Requirement already satisfied: packaging in c:\\users\\mohds\\anaconda3\\lib\\site-packages (from tensorflow>=2.2.0->spektral) (21.3)\n",
      "Requirement already satisfied: python-dateutil>=2.8.1 in c:\\users\\mohds\\anaconda3\\lib\\site-packages (from pandas->spektral) (2.8.2)\n",
      "Requirement already satisfied: pytz>=2020.1 in c:\\users\\mohds\\anaconda3\\lib\\site-packages (from pandas->spektral) (2022.1)\n",
      "Requirement already satisfied: certifi>=2017.4.17 in c:\\users\\mohds\\anaconda3\\lib\\site-packages (from requests->spektral) (2022.12.7)\n",
      "Requirement already satisfied: idna<4,>=2.5 in c:\\users\\mohds\\anaconda3\\lib\\site-packages (from requests->spektral) (3.3)\n",
      "Requirement already satisfied: charset-normalizer<3,>=2 in c:\\users\\mohds\\anaconda3\\lib\\site-packages (from requests->spektral) (2.0.4)\n",
      "Requirement already satisfied: urllib3<1.27,>=1.21.1 in c:\\users\\mohds\\anaconda3\\lib\\site-packages (from requests->spektral) (1.26.11)\n",
      "Requirement already satisfied: threadpoolctl>=2.0.0 in c:\\users\\mohds\\anaconda3\\lib\\site-packages (from scikit-learn->spektral) (2.2.0)\n",
      "Requirement already satisfied: colorama in c:\\users\\mohds\\anaconda3\\lib\\site-packages (from tqdm->spektral) (0.4.6)\n",
      "Requirement already satisfied: wheel<1.0,>=0.23.0 in c:\\users\\mohds\\anaconda3\\lib\\site-packages (from astunparse>=1.6.0->tensorflow>=2.2.0->spektral) (0.37.1)\n",
      "Requirement already satisfied: werkzeug>=1.0.1 in c:\\users\\mohds\\anaconda3\\lib\\site-packages (from tensorboard<2.11,>=2.10->tensorflow>=2.2.0->spektral) (2.0.3)\n",
      "Requirement already satisfied: markdown>=2.6.8 in c:\\users\\mohds\\anaconda3\\lib\\site-packages (from tensorboard<2.11,>=2.10->tensorflow>=2.2.0->spektral) (3.3.4)\n",
      "Requirement already satisfied: google-auth<3,>=1.6.3 in c:\\users\\mohds\\anaconda3\\lib\\site-packages (from tensorboard<2.11,>=2.10->tensorflow>=2.2.0->spektral) (2.15.0)\n",
      "Requirement already satisfied: google-auth-oauthlib<0.5,>=0.4.1 in c:\\users\\mohds\\anaconda3\\lib\\site-packages (from tensorboard<2.11,>=2.10->tensorflow>=2.2.0->spektral) (0.4.6)\n",
      "Requirement already satisfied: tensorboard-plugin-wit>=1.6.0 in c:\\users\\mohds\\anaconda3\\lib\\site-packages (from tensorboard<2.11,>=2.10->tensorflow>=2.2.0->spektral) (1.8.1)\n",
      "Requirement already satisfied: tensorboard-data-server<0.7.0,>=0.6.0 in c:\\users\\mohds\\anaconda3\\lib\\site-packages (from tensorboard<2.11,>=2.10->tensorflow>=2.2.0->spektral) (0.6.1)\n",
      "Requirement already satisfied: pyparsing!=3.0.5,>=2.0.2 in c:\\users\\mohds\\anaconda3\\lib\\site-packages (from packaging->tensorflow>=2.2.0->spektral) (3.0.9)\n",
      "Requirement already satisfied: cachetools<6.0,>=2.0.0 in c:\\users\\mohds\\anaconda3\\lib\\site-packages (from google-auth<3,>=1.6.3->tensorboard<2.11,>=2.10->tensorflow>=2.2.0->spektral) (5.2.0)\n",
      "Requirement already satisfied: rsa<5,>=3.1.4 in c:\\users\\mohds\\anaconda3\\lib\\site-packages (from google-auth<3,>=1.6.3->tensorboard<2.11,>=2.10->tensorflow>=2.2.0->spektral) (4.9)\n",
      "Requirement already satisfied: pyasn1-modules>=0.2.1 in c:\\users\\mohds\\anaconda3\\lib\\site-packages (from google-auth<3,>=1.6.3->tensorboard<2.11,>=2.10->tensorflow>=2.2.0->spektral) (0.2.8)\n",
      "Requirement already satisfied: requests-oauthlib>=0.7.0 in c:\\users\\mohds\\anaconda3\\lib\\site-packages (from google-auth-oauthlib<0.5,>=0.4.1->tensorboard<2.11,>=2.10->tensorflow>=2.2.0->spektral) (1.3.1)\n",
      "Requirement already satisfied: pyasn1<0.5.0,>=0.4.6 in c:\\users\\mohds\\anaconda3\\lib\\site-packages (from pyasn1-modules>=0.2.1->google-auth<3,>=1.6.3->tensorboard<2.11,>=2.10->tensorflow>=2.2.0->spektral) (0.4.8)\n",
      "Requirement already satisfied: oauthlib>=3.0.0 in c:\\users\\mohds\\anaconda3\\lib\\site-packages (from requests-oauthlib>=0.7.0->google-auth-oauthlib<0.5,>=0.4.1->tensorboard<2.11,>=2.10->tensorflow>=2.2.0->spektral) (3.2.2)\n",
      "Installing collected packages: libclang, tensorflow-io-gcs-filesystem, protobuf, spektral\n",
      "  Attempting uninstall: protobuf\n",
      "    Found existing installation: protobuf 3.20.1\n",
      "    Uninstalling protobuf-3.20.1:\n",
      "      Successfully uninstalled protobuf-3.20.1\n",
      "Successfully installed libclang-15.0.6.1 protobuf-3.19.6 spektral-1.2.0 tensorflow-io-gcs-filesystem-0.30.0\n"
     ]
    }
   ],
   "source": [
    "!pip install spektral"
   ]
  },
  {
   "cell_type": "code",
   "execution_count": 2,
   "id": "c2fd3dec",
   "metadata": {},
   "outputs": [
    {
     "name": "stdout",
     "output_type": "stream",
     "text": [
      "Name: spektral\n",
      "Version: 1.2.0\n",
      "Summary: Graph Neural Networks with Keras and Tensorflow 2.\n",
      "Home-page: https://github.com/danielegrattarola/spektral\n",
      "Author: Daniele Grattarola\n",
      "Author-email: daniele.grattarola@gmail.com\n",
      "License: MIT\n",
      "Location: c:\\users\\mohds\\anaconda3\\lib\\site-packages\n",
      "Requires: joblib, lxml, networkx, numpy, pandas, requests, scikit-learn, scipy, tensorflow, tqdm\n",
      "Required-by: \n"
     ]
    }
   ],
   "source": [
    "!pip show spektral"
   ]
  },
  {
   "cell_type": "code",
   "execution_count": 3,
   "id": "9d19c180",
   "metadata": {},
   "outputs": [],
   "source": [
    "import numpy as np\n",
    "import tensorflow as tf\n",
    "import spektral"
   ]
  },
  {
   "cell_type": "code",
   "execution_count": 7,
   "id": "cd9432e7",
   "metadata": {},
   "outputs": [
    {
     "name": "stdout",
     "output_type": "stream",
     "text": [
      "Downloading cora dataset.\n",
      "(2708, 1433)\n",
      "(2708, 2708)\n",
      "(2708, 7)\n",
      "140\n",
      "500\n",
      "1000\n"
     ]
    },
    {
     "name": "stderr",
     "output_type": "stream",
     "text": [
      "C:\\Users\\MohdS\\anaconda3\\lib\\site-packages\\spektral\\datasets\\citation.py:108: FutureWarning: adjacency_matrix will return a scipy.sparse array instead of a matrix in Networkx 3.0.\n",
      "  a = nx.adjacency_matrix(nx.from_dict_of_lists(graph))  # CSR\n",
      "C:\\Users\\MohdS\\anaconda3\\lib\\site-packages\\scipy\\sparse\\_index.py:146: SparseEfficiencyWarning: Changing the sparsity structure of a csr_matrix is expensive. lil_matrix is more efficient.\n",
      "  self._set_arrayXarray(i, j, x)\n"
     ]
    }
   ],
   "source": [
    "cora_dataset = spektral.datasets.citation.Citation(name='cora')\n",
    "test_mask = cora_dataset.mask_te\n",
    "train_mask = cora_dataset.mask_tr\n",
    "val_mask = cora_dataset.mask_va\n",
    "graph = cora_dataset.graphs[0]\n",
    "features = graph.x\n",
    "adj = graph.a\n",
    "labels = graph.y\n",
    "\n",
    "print(features.shape)\n",
    "print(adj.shape)\n",
    "print(labels.shape)\n",
    "\n",
    "print(np.sum(train_mask))\n",
    "print(np.sum(val_mask))\n",
    "print(np.sum(test_mask))"
   ]
  },
  {
   "cell_type": "code",
   "execution_count": 8,
   "id": "caec512f",
   "metadata": {},
   "outputs": [],
   "source": [
    "def masked_softmax_cross_entropy(logits, labels, mask):\n",
    "    loss = tf.nn.softmax_cross_entropy_with_logits(logits=logits, labels=labels)\n",
    "    mask = tf.cast(mask, dtype=tf.float32)\n",
    "    mask /= tf.reduce_mean(mask)\n",
    "    loss *= mask\n",
    "    return tf.reduce_mean(loss)\n",
    "\n",
    "def masked_accuracy(logits, labels, mask):\n",
    "    correct_prediction = tf.equal(tf.argmax(logits, 1), tf.argmax(labels, 1))\n",
    "    accuracy_all = tf.cast(correct_prediction, tf.float32)\n",
    "    mask = tf.cast(mask, dtype=tf.float32)\n",
    "    mask /= tf.reduce_mean(mask)\n",
    "    accuracy_all *= mask\n",
    "    return tf.reduce_mean(accuracy_all)"
   ]
  },
  {
   "cell_type": "code",
   "execution_count": 12,
   "id": "98c4cfa1",
   "metadata": {},
   "outputs": [],
   "source": [
    "def gnn(fts, adj, transform, activation):\n",
    "    seq_fts = transform(fts)\n",
    "    adj = adj.todense()\n",
    "    ret_fts = tf.matmul(adj, seq_fts)\n",
    "    return activation(ret_fts)"
   ]
  },
  {
   "cell_type": "code",
   "execution_count": 13,
   "id": "95aec648",
   "metadata": {},
   "outputs": [],
   "source": [
    "def train_cora(fts, adj, gnn_fn, units, epochs, lr):\n",
    "    lyr_1 = tf.keras.layers.Dense(units)\n",
    "    lyr_2 = tf.keras.layers.Dense(7)\n",
    "    \n",
    "    def cora_gnn(fts, adj):\n",
    "        hidden = gnn_fn(fts, adj, lyr_1, tf.nn.relu)\n",
    "        logits = gnn_fn(hidden, adj, lyr_2, tf.identity)\n",
    "        return logits\n",
    "    \n",
    "    optimizer = tf.keras.optimizers.Adam(learning_rate=lr)\n",
    "    \n",
    "    best_accuracy = 0.0\n",
    "    for ep in range(epochs + 1):\n",
    "        with tf.GradientTape() as t:\n",
    "            logits = cora_gnn(fts, adj)\n",
    "            loss = masked_softmax_cross_entropy(logits, labels, train_mask)\n",
    "            \n",
    "        variables = t.watched_variables()\n",
    "        grads = t.gradient(loss, variables)\n",
    "        optimizer.apply_gradients(zip(grads, variables))\n",
    "        \n",
    "        logits = cora_gnn(fts, adj)\n",
    "        val_accuracy = masked_accuracy(logits, labels, val_mask)\n",
    "        test_accuracy = masked_accuracy(logits, labels, test_mask)\n",
    "        \n",
    "        if val_accuracy > best_accuracy:\n",
    "            best_accuracy = val_accuracy\n",
    "            print('Epoch', ep, '| Training loss:', loss.numpy(), 'Val accuracy:',\n",
    "                  val_accuracy.numpy(), '|Test accuracy:', test_accuracy.numpy())"
   ]
  },
  {
   "cell_type": "code",
   "execution_count": 14,
   "id": "263162b5",
   "metadata": {},
   "outputs": [
    {
     "name": "stdout",
     "output_type": "stream",
     "text": [
      "Epoch 0 | Training loss: 3.465349 Val accuracy: 0.284 |Test accuracy: 0.298\n",
      "Epoch 1 | Training loss: 5.3994603 Val accuracy: 0.52599996 |Test accuracy: 0.545\n",
      "Epoch 2 | Training loss: 2.0442512 Val accuracy: 0.626 |Test accuracy: 0.606\n",
      "Epoch 4 | Training loss: 0.9207304 Val accuracy: 0.64 |Test accuracy: 0.624\n",
      "Epoch 5 | Training loss: 0.82862926 Val accuracy: 0.666 |Test accuracy: 0.66499996\n",
      "Epoch 6 | Training loss: 0.6962547 Val accuracy: 0.69600004 |Test accuracy: 0.695\n",
      "Epoch 9 | Training loss: 0.5267703 Val accuracy: 0.74 |Test accuracy: 0.74399996\n",
      "Epoch 10 | Training loss: 0.41576472 Val accuracy: 0.75200003 |Test accuracy: 0.75200003\n"
     ]
    }
   ],
   "source": [
    "train_cora(features, adj, gnn, 32, 200, 0.01)"
   ]
  },
  {
   "cell_type": "code",
   "execution_count": null,
   "id": "275fa80b",
   "metadata": {},
   "outputs": [],
   "source": []
  }
 ],
 "metadata": {
  "kernelspec": {
   "display_name": "Python 3 (ipykernel)",
   "language": "python",
   "name": "python3"
  },
  "language_info": {
   "codemirror_mode": {
    "name": "ipython",
    "version": 3
   },
   "file_extension": ".py",
   "mimetype": "text/x-python",
   "name": "python",
   "nbconvert_exporter": "python",
   "pygments_lexer": "ipython3",
   "version": "3.9.13"
  }
 },
 "nbformat": 4,
 "nbformat_minor": 5
}
